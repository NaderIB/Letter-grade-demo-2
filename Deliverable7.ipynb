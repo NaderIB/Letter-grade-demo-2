{
  "nbformat": 4,
  "nbformat_minor": 0,
  "metadata": {
    "colab": {
      "provenance": [],
      "authorship_tag": "ABX9TyP59pFsdjwUziHwpWuIv4L4",
      "include_colab_link": true
    },
    "kernelspec": {
      "name": "python3",
      "display_name": "Python 3"
    },
    "language_info": {
      "name": "python"
    }
  },
  "cells": [
    {
      "cell_type": "markdown",
      "metadata": {
        "id": "view-in-github",
        "colab_type": "text"
      },
      "source": [
        "<a href=\"https://colab.research.google.com/github/NaderIB/Letter-grade-demo-2/blob/master/Deliverable7.ipynb\" target=\"_parent\"><img src=\"https://colab.research.google.com/assets/colab-badge.svg\" alt=\"Open In Colab\"/></a>"
      ]
    },
    {
      "cell_type": "code",
      "execution_count": 2,
      "metadata": {
        "colab": {
          "base_uri": "https://localhost:8080/"
        },
        "id": "jdWx6dVQB4m6",
        "outputId": "9e08dea2-2a12-483e-da5e-08a26fc0e4b4"
      },
      "outputs": [
        {
          "output_type": "execute_result",
          "data": {
            "text/plain": [
              "array([34, 10, 45, 32, 21, 16, 49, 18, 37, 44])"
            ]
          },
          "metadata": {},
          "execution_count": 2
        }
      ],
      "source": [
        "import numpy as np\n",
        "np.random.randint(10,50,10)"
      ]
    },
    {
      "cell_type": "code",
      "source": [
        "def method_1(input):\n",
        "  out = []\n",
        "  for i in range(input):\n",
        "    out.append(np.random.randint(low = 10, high =50))\n",
        "  return out\n",
        "\n",
        "  "
      ],
      "metadata": {
        "id": "rkHMsBkMEFgw"
      },
      "execution_count": 3,
      "outputs": []
    },
    {
      "cell_type": "code",
      "source": [
        "method_1(10) "
      ],
      "metadata": {
        "colab": {
          "base_uri": "https://localhost:8080/"
        },
        "id": "rc0DT9zKEUo5",
        "outputId": "650c7976-33bb-4cd1-9e73-823c29caf444"
      },
      "execution_count": 4,
      "outputs": [
        {
          "output_type": "execute_result",
          "data": {
            "text/plain": [
              "[23, 45, 17, 11, 14, 24, 47, 40, 16, 44]"
            ]
          },
          "metadata": {},
          "execution_count": 4
        }
      ]
    },
    {
      "cell_type": "code",
      "source": [
        "def method_1(input):\n",
        "  return list(np.random.randint(low =10, high = 50, size = input))\n",
        "  "
      ],
      "metadata": {
        "id": "PuEpRz56EYQF"
      },
      "execution_count": 5,
      "outputs": []
    },
    {
      "cell_type": "code",
      "source": [
        "def method_2(list1):\n",
        "  sum = 0\n",
        "  for i in list1: \n",
        "    sum = i + sum\n",
        "  return sum"
      ],
      "metadata": {
        "id": "mbTqBGx3Fbts"
      },
      "execution_count": 6,
      "outputs": []
    },
    {
      "cell_type": "code",
      "source": [
        "method_2(method_1(10))"
      ],
      "metadata": {
        "colab": {
          "base_uri": "https://localhost:8080/"
        },
        "id": "wjNt6MgYGY3f",
        "outputId": "b1d1cd0c-b6d7-494e-812e-c509f4b5cf50"
      },
      "execution_count": 7,
      "outputs": [
        {
          "output_type": "execute_result",
          "data": {
            "text/plain": [
              "309"
            ]
          },
          "metadata": {},
          "execution_count": 7
        }
      ]
    },
    {
      "cell_type": "code",
      "source": [
        "entry = int(input(\"Please enter an integer between 5 & 15: \"))\n",
        "if (entry <= 15 and entry >= 5): \n",
        "  print (method_2(method_1(entry)))\n",
        "\n",
        "print(\"Enter correct integer\") \n"
      ],
      "metadata": {
        "colab": {
          "base_uri": "https://localhost:8080/"
        },
        "id": "FjNwRM7lGzZ7",
        "outputId": "fead222e-d560-406d-c200-3a2ddf5213c4"
      },
      "execution_count": 8,
      "outputs": [
        {
          "output_type": "stream",
          "name": "stdout",
          "text": [
            "Please enter an integer between 5 & 15: 10\n",
            "247\n",
            "Enter correct integer\n"
          ]
        }
      ]
    }
  ]
}